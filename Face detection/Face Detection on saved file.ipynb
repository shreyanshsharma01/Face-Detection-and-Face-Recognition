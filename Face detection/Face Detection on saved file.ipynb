{
 "cells": [
  {
   "cell_type": "markdown",
   "id": "1bbe0ea8",
   "metadata": {},
   "source": [
    "Face Detection on saved file "
   ]
  },
  {
   "cell_type": "markdown",
   "id": "0dd61837",
   "metadata": {},
   "source": [
    "#### importing the libraries"
   ]
  },
  {
   "cell_type": "code",
   "execution_count": 1,
   "id": "473bd1e3",
   "metadata": {},
   "outputs": [],
   "source": [
    "import numpy as np\n",
    "import os\n",
    "import cv2 as cv"
   ]
  },
  {
   "cell_type": "markdown",
   "id": "feb22c98",
   "metadata": {},
   "source": [
    "#### face detection "
   ]
  },
  {
   "cell_type": "code",
   "execution_count": 2,
   "id": "8ed9cc0b",
   "metadata": {},
   "outputs": [
    {
     "name": "stdout",
     "output_type": "stream",
     "text": [
      "Face Detected [[ 868  605  269  269]\n",
      " [ 627  250  286  286]\n",
      " [ 186  109  459  459]\n",
      " [1056  106  296  296]\n",
      " [1379  354  476  476]]\n"
     ]
    }
   ],
   "source": [
    "def FaceDetection(test_img):\n",
    "    gray_img = cv.cvtColor(test_img,cv.COLOR_BGR2GRAY)\n",
    "    face_haar_cascade = cv.CascadeClassifier('D:\\Internship ML\\Projects\\Open cv\\haarcascade_frontalface_default.xml')\n",
    "    faces = face_haar_cascade.detectMultiScale(gray_img,scaleFactor=1.3,minNeighbors=5) #classifier has many dependencies\n",
    "    return faces,gray_img\n",
    "test_img = cv.imread('D:\\Internship ML\\Projects\\Open cv\\Face images\\img5.jpg')\n",
    "face_detected,gray_img = FaceDetection(test_img)\n",
    "print('Face Detected',face_detected)"
   ]
  },
  {
   "cell_type": "code",
   "execution_count": 4,
   "id": "7f06dce6",
   "metadata": {},
   "outputs": [],
   "source": [
    "for (x,y,w,h) in face_detected:\n",
    "    cv.rectangle(test_img,(x,y),(x+w,y+h),(180,0,100),thickness=4)\n",
    "    pass\n",
    "resized_img = cv.resize(test_img,(900,700))\n",
    "cv.imshow(\"Face Detection Window\",resized_img)\n",
    "cv.waitKey(0)\n",
    "cv.destroyAllWindows()"
   ]
  },
  {
   "cell_type": "code",
   "execution_count": null,
   "id": "d842e1c1",
   "metadata": {},
   "outputs": [],
   "source": []
  },
  {
   "cell_type": "code",
   "execution_count": null,
   "id": "6ed1d4e7",
   "metadata": {},
   "outputs": [],
   "source": []
  }
 ],
 "metadata": {
  "kernelspec": {
   "display_name": "Python 3 (ipykernel)",
   "language": "python",
   "name": "python3"
  },
  "language_info": {
   "codemirror_mode": {
    "name": "ipython",
    "version": 3
   },
   "file_extension": ".py",
   "mimetype": "text/x-python",
   "name": "python",
   "nbconvert_exporter": "python",
   "pygments_lexer": "ipython3",
   "version": "3.7.12"
  }
 },
 "nbformat": 4,
 "nbformat_minor": 5
}
