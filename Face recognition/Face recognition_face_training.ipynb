{
 "cells": [
  {
   "cell_type": "code",
   "execution_count": 1,
   "id": "a2877a27",
   "metadata": {},
   "outputs": [
    {
     "data": {
      "text/plain": [
       "'\\'\\nTraining Multiple Faces stored on a DataBase:\\n\\t==> Each face should have a unique numeric integer ID as 1, 2, 3, etc                       \\n\\t==> LBPH computed model will be saved on trainer/ directory. (if it does not exist, pls create one)\\n\\t==> for using PIL, install pillow library with \"pip install pillow\"\\nBased on original code by Anirban Kar: https://github.com/thecodacus/Face-Recognition    \\nDeveloped by Marcelo Rovai - MJRoBot.org @ 21Feb18   \\n'"
      ]
     },
     "execution_count": 1,
     "metadata": {},
     "output_type": "execute_result"
    }
   ],
   "source": [
    "''''\n",
    "Training Multiple Faces stored on a DataBase:\n",
    "\t==> Each face should have a unique numeric integer ID as 1, 2, 3, etc                       \n",
    "\t==> LBPH computed model will be saved on trainer/ directory. (if it does not exist, pls create one)\n",
    "\t==> for using PIL, install pillow library with \"pip install pillow\"\n",
    "Based on original code by Anirban Kar: https://github.com/thecodacus/Face-Recognition    \n",
    "Developed by Marcelo Rovai - MJRoBot.org @ 21Feb18   \n",
    "'''"
   ]
  },
  {
   "cell_type": "code",
   "execution_count": 2,
   "id": "2ef2b6c2",
   "metadata": {},
   "outputs": [],
   "source": [
    "import cv2\n",
    "import numpy as np\n",
    "from PIL import Image #Python Imaging Library for image editing features \n",
    "import os"
   ]
  },
  {
   "cell_type": "code",
   "execution_count": 3,
   "id": "434a1536",
   "metadata": {},
   "outputs": [],
   "source": [
    "# Path for face image database\n",
    "path = \"D:\\Internship ML\\Projects\\Open cv\\Face images\\Facedataset\""
   ]
  },
  {
   "cell_type": "code",
   "execution_count": 4,
   "id": "208047a8",
   "metadata": {},
   "outputs": [],
   "source": [
    "recognizer = cv2.face.LBPHFaceRecognizer_create() #using Local Binary Pattern Historgram(LBPH) alogrithm \n",
    "detector = cv2.CascadeClassifier(\"D:\\Internship ML\\Projects\\Open cv\\haarcascade_frontalface_default.xml\");"
   ]
  },
  {
   "cell_type": "code",
   "execution_count": 5,
   "id": "5dde443c",
   "metadata": {},
   "outputs": [
    {
     "name": "stdout",
     "output_type": "stream",
     "text": [
      "\n",
      " [INFO] Training faces. It will take a few seconds. Wait ...\n"
     ]
    }
   ],
   "source": [
    "# function to get the images and label data\n",
    "def getImagesAndLabels(path):\n",
    "\n",
    "    imagePaths = [os.path.join(path,f) for f in os.listdir(path)]     \n",
    "    faceSamples=[]\n",
    "    ids = []\n",
    "\n",
    "    for imagePath in imagePaths:\n",
    "\n",
    "        PIL_img = Image.open(imagePath).convert('L') # convert it to grayscale\n",
    "        img_numpy = np.array(PIL_img,'uint8')\n",
    "\n",
    "        id = int(os.path.split(imagePath)[-1].split(\".\")[1])\n",
    "        faces = detector.detectMultiScale(img_numpy)\n",
    "\n",
    "        for (x,y,w,h) in faces:\n",
    "            faceSamples.append(img_numpy[y:y+h,x:x+w])\n",
    "            ids.append(id)\n",
    "\n",
    "    return faceSamples,ids\n",
    "\n",
    "print (\"\\n [INFO] Training faces. It will take a few seconds. Wait ...\")\n",
    "faces,ids = getImagesAndLabels(path)\n",
    "recognizer.train(faces, np.array(ids))"
   ]
  },
  {
   "cell_type": "code",
   "execution_count": 6,
   "id": "0186c8f5",
   "metadata": {},
   "outputs": [],
   "source": [
    "# Save the model into trainer/trainer.yml\n",
    "recognizer.write(\"D:\\Internship ML\\Projects\\Open cv\\Face images/trainer.yml\") "
   ]
  },
  {
   "cell_type": "code",
   "execution_count": 7,
   "id": "cdc3a7b9",
   "metadata": {},
   "outputs": [
    {
     "name": "stdout",
     "output_type": "stream",
     "text": [
      "\n",
      " [INFO] 1 faces trained. Exiting Program\n"
     ]
    }
   ],
   "source": [
    "# Print the numer of faces trained and end program\n",
    "print(\" [INFO] {0} faces trained. Exiting Program\".format(len(np.unique(ids))))"
   ]
  },
  {
   "cell_type": "code",
   "execution_count": null,
   "id": "f7e0810f",
   "metadata": {},
   "outputs": [],
   "source": []
  }
 ],
 "metadata": {
  "kernelspec": {
   "display_name": "Python 3 (ipykernel)",
   "language": "python",
   "name": "python3"
  },
  "language_info": {
   "codemirror_mode": {
    "name": "ipython",
    "version": 3
   },
   "file_extension": ".py",
   "mimetype": "text/x-python",
   "name": "python",
   "nbconvert_exporter": "python",
   "pygments_lexer": "ipython3",
   "version": "3.7.12"
  }
 },
 "nbformat": 4,
 "nbformat_minor": 5
}
