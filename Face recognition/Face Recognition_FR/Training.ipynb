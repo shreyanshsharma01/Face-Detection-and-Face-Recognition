{
 "cells": [
  {
   "cell_type": "code",
   "execution_count": 1,
   "id": "6f70fb8c",
   "metadata": {},
   "outputs": [],
   "source": [
    "import cv2\n",
    "import face_recognition\n",
    "import os"
   ]
  },
  {
   "cell_type": "code",
   "execution_count": 11,
   "id": "85299cc7",
   "metadata": {},
   "outputs": [],
   "source": [
    "path = r'C:\\Users\\Q209\\Current projects\\Face Recognition_FR\\FaceData'"
   ]
  },
  {
   "cell_type": "code",
   "execution_count": 9,
   "id": "9259f389",
   "metadata": {},
   "outputs": [
    {
     "name": "stdout",
     "output_type": "stream",
     "text": [
      "NO OF FACES IN FOLDER ARE : 47\n",
      "Encoding Complete...\n"
     ]
    }
   ],
   "source": [
    "images = [] \n",
    "classNames = []\n",
    "myList = os.listdir(path)\n",
    "for cl in myList:\n",
    "    curImg = cv2.imread(f'{path}/{cl}')\n",
    "    images.append(curImg)\n",
    "    classNames.append(os.path.splitext(cl)[0])\n",
    "print(\"NO OF FACES IN FOLDER ARE :\", len(classNames))\n",
    "\n",
    "def findEncodings(images):\n",
    "    encodeList = []\n",
    "    for img in images:\n",
    "        img = cv2.cvtColor(img, cv2.COLOR_BGR2RGB)\n",
    "        encode = face_recognition.face_encodings(img)[0]\n",
    "        encodeList.append(encode)\n",
    "    return encodeList\n",
    "\n",
    "encodeListKnown = findEncodings(images)\n",
    "print('Encoding Complete...')"
   ]
  },
  {
   "cell_type": "code",
   "execution_count": 8,
   "id": "aee057f2",
   "metadata": {},
   "outputs": [],
   "source": [
    "knownEncodings = [] #face encodings\n",
    "knownNames = [] # labelname\n",
    "\n",
    "#loop over image paths\n",
    "for (i,image)\n"
   ]
  },
  {
   "cell_type": "code",
   "execution_count": 12,
   "id": "4e5a405f",
   "metadata": {},
   "outputs": [
    {
     "ename": "AttributeError",
     "evalue": "'str' object has no attribute 'list_images'",
     "output_type": "error",
     "traceback": [
      "\u001b[1;31m---------------------------------------------------------------------------\u001b[0m",
      "\u001b[1;31mAttributeError\u001b[0m                            Traceback (most recent call last)",
      "Cell \u001b[1;32mIn[12], line 1\u001b[0m\n\u001b[1;32m----> 1\u001b[0m imagePaths \u001b[38;5;241m=\u001b[39m \u001b[38;5;28mlist\u001b[39m(\u001b[43mpath\u001b[49m\u001b[38;5;241;43m.\u001b[39;49m\u001b[43mlist_images\u001b[49m(args[\u001b[38;5;124m'\u001b[39m\u001b[38;5;124mFaceData\u001b[39m\u001b[38;5;124m'\u001b[39m]))\n",
      "\u001b[1;31mAttributeError\u001b[0m: 'str' object has no attribute 'list_images'"
     ]
    }
   ],
   "source": [
    "imagePaths = list(path.list_images(args['FaceData']))"
   ]
  },
  {
   "cell_type": "code",
   "execution_count": null,
   "id": "4426f4d4",
   "metadata": {},
   "outputs": [],
   "source": []
  },
  {
   "cell_type": "code",
   "execution_count": null,
   "id": "d4702c5a",
   "metadata": {},
   "outputs": [],
   "source": []
  },
  {
   "cell_type": "code",
   "execution_count": null,
   "id": "b6c0862c",
   "metadata": {},
   "outputs": [],
   "source": []
  }
 ],
 "metadata": {
  "kernelspec": {
   "display_name": "Python 3 (ipykernel)",
   "language": "python",
   "name": "python3"
  },
  "language_info": {
   "codemirror_mode": {
    "name": "ipython",
    "version": 3
   },
   "file_extension": ".py",
   "mimetype": "text/x-python",
   "name": "python",
   "nbconvert_exporter": "python",
   "pygments_lexer": "ipython3",
   "version": "3.8.0"
  }
 },
 "nbformat": 4,
 "nbformat_minor": 5
}
