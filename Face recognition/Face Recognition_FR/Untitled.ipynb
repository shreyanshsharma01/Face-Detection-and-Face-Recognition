{
 "cells": [
  {
   "cell_type": "code",
   "execution_count": 1,
   "id": "fe4ff7a9",
   "metadata": {},
   "outputs": [],
   "source": [
    "filename = \"shreyansh_100.jpg\""
   ]
  },
  {
   "cell_type": "code",
   "execution_count": 10,
   "id": "bc438054",
   "metadata": {},
   "outputs": [
    {
     "data": {
      "text/plain": [
       "'100'"
      ]
     },
     "execution_count": 10,
     "metadata": {},
     "output_type": "execute_result"
    }
   ],
   "source": [
    "name, id = filename.split(\"_\")\n",
    "id = str(id.split(\".\")[0])\n",
    "id"
   ]
  },
  {
   "cell_type": "code",
   "execution_count": 29,
   "id": "03c48da0",
   "metadata": {},
   "outputs": [],
   "source": [
    "import os\n",
    "id = os.path.splitext(filename)[0]\n",
    "#id = str(id)"
   ]
  },
  {
   "cell_type": "code",
   "execution_count": 30,
   "id": "c7642b74",
   "metadata": {},
   "outputs": [
    {
     "data": {
      "text/plain": [
       "'shreyansh_100'"
      ]
     },
     "execution_count": 30,
     "metadata": {},
     "output_type": "execute_result"
    }
   ],
   "source": [
    "id"
   ]
  },
  {
   "cell_type": "code",
   "execution_count": 31,
   "id": "b96d204d",
   "metadata": {},
   "outputs": [
    {
     "data": {
      "text/plain": [
       "str"
      ]
     },
     "execution_count": 31,
     "metadata": {},
     "output_type": "execute_result"
    }
   ],
   "source": [
    "type(id)"
   ]
  },
  {
   "cell_type": "code",
   "execution_count": 32,
   "id": "08345dd8",
   "metadata": {},
   "outputs": [],
   "source": [
    "faces_dir = \"face dataset/\""
   ]
  },
  {
   "cell_type": "code",
   "execution_count": 33,
   "id": "bba25d6c",
   "metadata": {},
   "outputs": [
    {
     "data": {
      "text/plain": [
       "['AB_QD0390.jpg',\n",
       " 'AC_QD0437.jpg',\n",
       " 'AD_QD0500.jpg',\n",
       " 'AE_QD0501.JPG',\n",
       " 'AF_QD0511.jpg',\n",
       " 'A_QD0001.png',\n",
       " 'Barak_03.jfif',\n",
       " 'BA_QD0524.png',\n",
       " 'BB_QD0536.jpg',\n",
       " 'Bill_4.jfif',\n",
       " 'BX_QD0548.jpg',\n",
       " 'B_QD0002.png',\n",
       " 'Chetan_Q148.jpeg',\n",
       " 'C_QD0058.jpg',\n",
       " 'Divyam_QD1740.jpg',\n",
       " 'D_QD0155.jpg',\n",
       " 'Elon_10.jpg',\n",
       " 'E_QD0338.jpg',\n",
       " 'F_QD0326.jpg',\n",
       " 'G_QD0169.png',\n",
       " 'Harsh_QD138.jpeg',\n",
       " 'H_QD0354.jpg',\n",
       " 'I_QD0368.png',\n",
       " 'I_QD0485.jpg',\n",
       " 'Joe_12.jfif',\n",
       " 'J_QD0358.jpg',\n",
       " 'K_QD0393.jpg',\n",
       " 'Lakhan_QD1711.jpeg',\n",
       " 'L_QD0433.jpg',\n",
       " 'Michelle_15.jfif',\n",
       " 'Modi_55.jfif',\n",
       " 'M_QD0153.jpg',\n",
       " 'M_QD0484.jpg',\n",
       " 'N_QD0202.jpg',\n",
       " 'O_QD0237.jpg',\n",
       " 'P_QD0374.jpg',\n",
       " 'Q_QD0003.jpg',\n",
       " 'R_QD0031.jpg',\n",
       " 'Sasha_25.jfif',\n",
       " 'S_QD0103.jpg',\n",
       " 'Trump_66.jfif',\n",
       " 'T_QD0120.jpg',\n",
       " 'U_QD0136.png',\n",
       " 'V_QD0147.jpg',\n",
       " 'W_QD0152.png',\n",
       " 'X_QD0160.jpg',\n",
       " 'y_QD0568.jpg']"
      ]
     },
     "execution_count": 33,
     "metadata": {},
     "output_type": "execute_result"
    }
   ],
   "source": [
    "os.listdir(faces_dir)"
   ]
  },
  {
   "cell_type": "code",
   "execution_count": 35,
   "id": "1e08ca12",
   "metadata": {},
   "outputs": [],
   "source": [
    "name_id = os.path.splitext(filename)[0]\n"
   ]
  },
  {
   "cell_type": "code",
   "execution_count": 36,
   "id": "f051f951",
   "metadata": {},
   "outputs": [
    {
     "data": {
      "text/plain": [
       "'shreyansh_100'"
      ]
     },
     "execution_count": 36,
     "metadata": {},
     "output_type": "execute_result"
    }
   ],
   "source": [
    "name_id"
   ]
  },
  {
   "cell_type": "code",
   "execution_count": null,
   "id": "fbec69c5",
   "metadata": {},
   "outputs": [],
   "source": []
  }
 ],
 "metadata": {
  "kernelspec": {
   "display_name": "Python 3 (ipykernel)",
   "language": "python",
   "name": "python3"
  },
  "language_info": {
   "codemirror_mode": {
    "name": "ipython",
    "version": 3
   },
   "file_extension": ".py",
   "mimetype": "text/x-python",
   "name": "python",
   "nbconvert_exporter": "python",
   "pygments_lexer": "ipython3",
   "version": "3.8.0"
  }
 },
 "nbformat": 4,
 "nbformat_minor": 5
}
