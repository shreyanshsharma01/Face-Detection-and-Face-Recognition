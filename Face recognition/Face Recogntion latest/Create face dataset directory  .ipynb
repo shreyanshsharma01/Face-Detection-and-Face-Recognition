{
 "cells": [
  {
   "cell_type": "markdown",
   "id": "ecc0bd43",
   "metadata": {},
   "source": [
    "Creating Face_data directory within the parent directory & within that create directory name as user name"
   ]
  },
  {
   "cell_type": "code",
   "execution_count": 1,
   "id": "d94dd44f",
   "metadata": {},
   "outputs": [],
   "source": [
    "import cv2 \n",
    "import numpy as np\n",
    "import os"
   ]
  },
  {
   "cell_type": "markdown",
   "id": "fa93a50e",
   "metadata": {},
   "source": [
    "Face Detector"
   ]
  },
  {
   "cell_type": "code",
   "execution_count": 2,
   "id": "29f7dd2c",
   "metadata": {},
   "outputs": [],
   "source": [
    "face_detector = cv2.CascadeClassifier(r'C:\\Users\\Q209\\Current projects\\Face Recognition\\haarcascade_frontalface_default.xml')"
   ]
  },
  {
   "cell_type": "markdown",
   "id": "04622610",
   "metadata": {},
   "source": [
    "Create dataset"
   ]
  },
  {
   "cell_type": "code",
   "execution_count": 3,
   "id": "650e5770",
   "metadata": {},
   "outputs": [
    {
     "name": "stdout",
     "output_type": "stream",
     "text": [
      "Enter user name: and press <Enter> ==> Shreyansh\n",
      "Enter user ID: and press <Enter> ==> 14\n"
     ]
    }
   ],
   "source": [
    "# Create the main directory\n",
    "parent_directory = \"face_dataset\"\n",
    "if not os.path.exists(parent_directory):\n",
    "    os.makedirs(parent_directory)\n",
    "    \n",
    "# Input user name and ID\n",
    "user_name = input(\"Enter user name: and press <Enter> ==> \")\n",
    "user_id = input(\"Enter user ID: and press <Enter> ==> \")\n",
    "# For each person, enter name & one numeric face id\n",
    "\n",
    "# Initialize individual sampling face count\n",
    "count = 1\n",
    "\n",
    "# Create a directory for the user within the main directory\n",
    "user_directory = os.path.join(parent_directory, user_name)\n",
    "if not os.path.exists(user_directory):\n",
    "    os.makedirs(user_directory)\n",
    "\n",
    "# Save the user's ID in a text file within the user directory\n",
    "file_path = os.path.join(user_directory, user_name + \"_id.txt\")\n",
    "with open(file_path, \"w\") as f:\n",
    "    f.write(user_id)"
   ]
  },
  {
   "cell_type": "code",
   "execution_count": 5,
   "id": "5f8d60b8",
   "metadata": {},
   "outputs": [
    {
     "name": "stdout",
     "output_type": "stream",
     "text": [
      "\n",
      " [INFO] Exiting Program and cleanup stuff\n"
     ]
    }
   ],
   "source": [
    "cam = cv2.VideoCapture(0)\n",
    "#parent_dir = os.path.abspath(os.curdir)\n",
    "#user_folder = parent_dir +'/'+ user_name + \"_\" + str(user_id)\n",
    "\n",
    "while(True):\n",
    "    rename_img = user_name + \"_\" + str(user_id) + \"_\" + str(count)+ \".jpg\"\n",
    "    filename = os.path.join(user_directory, rename_img)\n",
    "    #filename = user_name + \"_\" + str(id) + \"_\" + str(count)+ \".jpg\"\n",
    "    #filename = r'C:\\Users\\Q209\\Current projects\\Face Recognition/Facedataset'+user_name+\"_\" +str(user_id)+\"_\"+str(count)+\".jpg\"\n",
    "    ret, img = cam.read()\n",
    "    img = cv2.flip(img, 1) # flip video image vertically\n",
    "    gray = cv2.cvtColor(img, cv2.COLOR_BGR2GRAY)\n",
    "    faces = face_detector.detectMultiScale(gray, 1.3, 5)\n",
    "\n",
    "    for (x,y,w,h) in faces:\n",
    "        cv2.rectangle(img,(x,y),(x+w,y+h),(255,255,0), 2)\n",
    "        count += 1\n",
    "        \n",
    "        # Save the captured image into the datasets folder        \n",
    "        cv2.imwrite(filename, gray[y:y+h,x:x+w])\n",
    "        cv2.imshow('image', img)\n",
    "\n",
    "    k = cv2.waitKey(100) & 0xff \n",
    "    if k == 27: # Press 'ESC' for exiting video\n",
    "        break\n",
    "    elif count >= 30: # Take 30 face sample and stop video\n",
    "         break\n",
    "\n",
    "# Do a bit of cleanup\n",
    "print(\"\\n [INFO] Exiting Program and cleanup stuff\")\n",
    "cam.release()\n",
    "cv2.destroyAllWindows()\n",
    "#file.close "
   ]
  },
  {
   "cell_type": "code",
   "execution_count": null,
   "id": "1bb241cb",
   "metadata": {},
   "outputs": [],
   "source": []
  }
 ],
 "metadata": {
  "kernelspec": {
   "display_name": "Python 3 (ipykernel)",
   "language": "python",
   "name": "python3"
  },
  "language_info": {
   "codemirror_mode": {
    "name": "ipython",
    "version": 3
   },
   "file_extension": ".py",
   "mimetype": "text/x-python",
   "name": "python",
   "nbconvert_exporter": "python",
   "pygments_lexer": "ipython3",
   "version": "3.8.0"
  }
 },
 "nbformat": 4,
 "nbformat_minor": 5
}
