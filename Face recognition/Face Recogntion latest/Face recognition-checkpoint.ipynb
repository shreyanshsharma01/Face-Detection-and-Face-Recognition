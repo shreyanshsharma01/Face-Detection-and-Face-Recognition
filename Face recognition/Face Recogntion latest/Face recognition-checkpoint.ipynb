{
 "cells": [
  {
   "cell_type": "markdown",
   "id": "1ead583e",
   "metadata": {},
   "source": [
    "## Face Recognition"
   ]
  },
  {
   "cell_type": "code",
   "execution_count": null,
   "id": "116a3053",
   "metadata": {},
   "outputs": [],
   "source": [
    "import cv2\n",
    "import numpy as np\n",
    "import os"
   ]
  },
  {
   "cell_type": "code",
   "execution_count": null,
   "id": "6021bb34",
   "metadata": {},
   "outputs": [],
   "source": [
    "#cam = cv2.VideoCapture(0)\n",
    "##cam.set(4, 480) # set video height"
   ]
  },
  {
   "cell_type": "markdown",
   "id": "8c627011",
   "metadata": {},
   "source": [
    "Face Detector"
   ]
  },
  {
   "cell_type": "code",
   "execution_count": null,
   "id": "6a5d792c",
   "metadata": {},
   "outputs": [],
   "source": [
    "face_detector = cv2.CascadeClassifier(r'C:\\Users\\Q209\\Current projects\\Face Recognition\\haarcascade_frontalface_default.xml')"
   ]
  },
  {
   "cell_type": "markdown",
   "id": "161bc169",
   "metadata": {},
   "source": [
    "#### Create dataset"
   ]
  },
  {
   "cell_type": "code",
   "execution_count": null,
   "id": "20fe9882",
   "metadata": {},
   "outputs": [],
   "source": [
    "# For each person, enter one numeric face id\n",
    "user_name = input('enter user name end press <return> ==> ')\n",
    "user_id = input('\\n enter user id end press <return> ==> ')\n",
    "\n",
    "print(\"\\n [INFO] Initializing face capture. Look the camera and wait ...\")\n",
    "# Initialize individual sampling face count\n",
    "count = 1\n",
    "\n",
    "parent_dir = os.path.abspath(os.curdir)\n",
    "user_folder = parent_dir +'/'+ user_name + \"_\" + str(user_id)\n",
    "if not os.path.exists(user_folder):\n",
    "    print(\"Directory Doesn't Exists, Creating Directory!\")\n",
    "    os.mkdir(user_folder)\n",
    "    os.chdir(user_folder)\n",
    "    print(os.getcwd())\n",
    "else:\n",
    "    os.chdir(user_folder)"
   ]
  },
  {
   "cell_type": "code",
   "execution_count": null,
   "id": "b35972ff",
   "metadata": {
    "scrolled": true
   },
   "outputs": [],
   "source": [
    "cam = cv2.VideoCapture(0)\n",
    "#parent_dir = os.path.abspath(os.curdir)\n",
    "#user_folder = parent_dir +'/'+ user_name + \"_\" + str(user_id)\n",
    "\n",
    "while(True):\n",
    "    filename = user_name + \"_\" + str(id) + \"_\" + str(count)+ \".jpg\"\n",
    "    #filename = user_name + \"_\" + str(id) + \"_\" + str(count)+ \".jpg\"\n",
    "    #filename = r'C:\\Users\\Q209\\Current projects\\Face Recognition/Facedataset'+user_name+\"_\" +str(user_id)+\"_\"+str(count)+\".jpg\"\n",
    "    ret, img = cam.read()\n",
    "    img = cv2.flip(img, 1) # flip video image vertically\n",
    "    gray = cv2.cvtColor(img, cv2.COLOR_BGR2GRAY)\n",
    "    faces = face_detector.detectMultiScale(gray, 1.3, 5)\n",
    "\n",
    "    for (x,y,w,h) in faces:\n",
    "        cv2.rectangle(img,(x,y),(x+w,y+h),(255,255,0), 2)\n",
    "        count += 1\n",
    "        \n",
    "        # Save the captured image into the datasets folder        \n",
    "        cv2.imwrite(filename, gray[y:y+h,x:x+w])\n",
    "        cv2.imshow('image', img)\n",
    "\n",
    "    k = cv2.waitKey(100) & 0xff \n",
    "    if k == 27: # Press 'ESC' for exiting video\n",
    "        break\n",
    "    elif count >= 30: # Take 30 face sample and stop video\n",
    "         break\n",
    "\n",
    "# Do a bit of cleanup\n",
    "print(\"\\n [INFO] Exiting Program and cleanup stuff\")\n",
    "cam.release()\n",
    "cv2.destroyAllWindows()\n",
    "#file.close "
   ]
  },
  {
   "cell_type": "markdown",
   "id": "f5ecad46",
   "metadata": {},
   "source": [
    "#### Training the model"
   ]
  },
  {
   "cell_type": "code",
   "execution_count": null,
   "id": "e28fd153",
   "metadata": {},
   "outputs": [],
   "source": [
    "import cv2\n",
    "import numpy as np\n",
    "from PIL import Image #Python Imaging Library for image editing features \n",
    "import os"
   ]
  },
  {
   "cell_type": "code",
   "execution_count": null,
   "id": "c71d26ac",
   "metadata": {},
   "outputs": [],
   "source": [
    "# Path for face image database\n",
    "path = \"D:\\Internship ML\\Projects\\Open cv\\Face images\\Facedataset\""
   ]
  },
  {
   "cell_type": "code",
   "execution_count": null,
   "id": "f4625a81",
   "metadata": {},
   "outputs": [],
   "source": [
    "recognizer = cv2.createLBPHFaceRecognizer() #using Local Binary Pattern Historgram(LBPH) alogrithm "
   ]
  },
  {
   "cell_type": "code",
   "execution_count": null,
   "id": "1d03d974",
   "metadata": {},
   "outputs": [],
   "source": [
    "# function to get the images and label data\n",
    "def getImagesAndLabels(path):\n",
    "\n",
    "    imagePaths = [os.path.join(path,f) for f in os.listdir(path)]     \n",
    "    faceSamples=[]\n",
    "    ids = []\n",
    "\n",
    "    for image in imagePaths:\n",
    "\n",
    "        PIL_img = Image.open(imagePath).convert('L') # convert it to grayscale\n",
    "        img_numpy = np.array(PIL_img,'uint8') # to convert into grid using numpy array datatype:uint8\n",
    "\n",
    "        id = int(os.path.split(image)[-1].split(\".\")[1]) # splitting the userid & directory path\n",
    "        faces = detector.detectMultiScale(img_numpy)\n",
    "\n",
    "        for (x,y,w,h) in faces:\n",
    "            faceSamples.append(img_numpy[y:y+h,x:x+w])\n",
    "            ids.append(id)\n",
    "    \n",
    "    \n",
    "        key = cv.waitKey(1) & 0xff\n",
    "        if (key == ord('q')):\n",
    "            cam.release()\n",
    "            cv.destroyAllWindows()\n",
    "        elif (key == ord('c')): # wait for 'c' key to save and exit\n",
    "            cv.imwrite('face_detect.png',f)\n",
    "            print(\"\\n [INFO] Exiting Program and cleanup stuff\")\n",
    "            cam.release()\n",
    "            cv.destroyAllWindows()\n",
    "    \n",
    "    return faceSamples,ids\n",
    "\n",
    "print (\"\\n [INFO] Training faces. It will take a few seconds. Wait ...\")\n",
    "faces,ids = getImagesAndLabels(path)\n",
    "recognizer.train(faces, np.array(ids))\n",
    "recognizer.write('classifier.xml')\n",
    "messagebox.showinfo('Results','Training Dataset Completed')"
   ]
  },
  {
   "cell_type": "code",
   "execution_count": null,
   "id": "c07fc621",
   "metadata": {},
   "outputs": [],
   "source": []
  },
  {
   "cell_type": "code",
   "execution_count": null,
   "id": "115336b6",
   "metadata": {},
   "outputs": [],
   "source": []
  },
  {
   "cell_type": "code",
   "execution_count": null,
   "id": "9e5b038d",
   "metadata": {},
   "outputs": [],
   "source": []
  },
  {
   "cell_type": "code",
   "execution_count": null,
   "id": "77871b86",
   "metadata": {},
   "outputs": [],
   "source": []
  },
  {
   "cell_type": "code",
   "execution_count": null,
   "id": "92eac82f",
   "metadata": {},
   "outputs": [],
   "source": []
  },
  {
   "cell_type": "code",
   "execution_count": null,
   "id": "ec7fcdaf",
   "metadata": {},
   "outputs": [],
   "source": []
  },
  {
   "cell_type": "code",
   "execution_count": null,
   "id": "20c7bc74",
   "metadata": {},
   "outputs": [],
   "source": []
  },
  {
   "cell_type": "code",
   "execution_count": null,
   "id": "bd8e949c",
   "metadata": {},
   "outputs": [],
   "source": []
  },
  {
   "cell_type": "code",
   "execution_count": null,
   "id": "25374a44",
   "metadata": {},
   "outputs": [],
   "source": [
    "project_directory = os.path.abspath(os.curdir)\n",
    "        user_folder = project_directory + '/' +username + \"_\" + str(id)"
   ]
  }
 ],
 "metadata": {
  "kernelspec": {
   "display_name": "Python 3 (ipykernel)",
   "language": "python",
   "name": "python3"
  },
  "language_info": {
   "codemirror_mode": {
    "name": "ipython",
    "version": 3
   },
   "file_extension": ".py",
   "mimetype": "text/x-python",
   "name": "python",
   "nbconvert_exporter": "python",
   "pygments_lexer": "ipython3",
   "version": "3.8.0"
  }
 },
 "nbformat": 4,
 "nbformat_minor": 5
}
